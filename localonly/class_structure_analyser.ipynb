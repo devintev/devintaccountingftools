{
 "cells": [
  {
   "cell_type": "markdown",
   "metadata": {
    "vscode": {
     "languageId": "plaintext"
    }
   },
   "source": [
    "# Cell 1: Install necessary packages in Jupyter"
   ]
  },
  {
   "cell_type": "code",
   "execution_count": null,
   "metadata": {},
   "outputs": [],
   "source": [
    "#!pip install networkx pygraphviz pydot\n",
    "\n",
    "# graphviz installation may require some additional steps:\n",
    "# brew install graphviz\n",
    "# export PKG_CONFIG_PATH=\"/opt/homebrew/lib/pkgconfig\"\n",
    "# CFLAGS=\"-I$(brew --prefix graphviz)/include\" LDFLAGS=\"-L$(brew --prefix graphviz)/lib\" pip install pygraphviz"
   ]
  },
  {
   "cell_type": "markdown",
   "metadata": {},
   "source": [
    "# Imports and function definitions"
   ]
  },
  {
   "cell_type": "code",
   "execution_count": 36,
   "metadata": {},
   "outputs": [],
   "source": [
    "import ast\n",
    "import networkx as nx\n",
    "from networkx.drawing.nx_pydot import write_dot\n",
    "from io import StringIO\n",
    "import re\n",
    "\n",
    "# Impressive ASCII header and footer markers as global variables\n",
    "GRAPH_HEADER = (\n",
    "    \"# ╔══════════════════════════════════════════════════════════════╗\\n\"\n",
    "    \"# ║                      ★ DEPENDENCY GRAPH ★                    ║\\n\"\n",
    "    \"# ║                     BEGIN DEPENDENCY GRAPH                   ║\\n\"\n",
    "    \"# ╚══════════════════════════════════════════════════════════════╝\"\n",
    ")\n",
    "GRAPH_FOOTER = (\n",
    "    \"# ╔══════════════════════════════════════════════════════════════╗\\n\"\n",
    "    \"# ║                     END DEPENDENCY GRAPH                     ║\\n\"\n",
    "    \"# ╚══════════════════════════════════════════════════════════════╝\"\n",
    ")\n",
    "\n",
    "# Helper function to parse the Python file and extract dependencies\n",
    "\n",
    "\n",
    "def parse_file(filename):\n",
    "    with open(filename, \"r\") as file:\n",
    "        tree = ast.parse(file.read())\n",
    "    return tree\n",
    "\n",
    "\n",
    "# Helper function to check if a node is top-level (not within a class)\n",
    "def is_top_level(node, tree):\n",
    "    return not any(isinstance(parent, ast.ClassDef) and hasattr(parent, 'body') and node in parent.body for parent in ast.walk(tree))\n",
    "\n",
    "\n",
    "# Function to analyze structure and dependencies\n",
    "def analyze_structure_and_dependencies(filename):\n",
    "    with open(filename, \"r\") as file:\n",
    "        tree = ast.parse(file.read())\n",
    "\n",
    "    dependencies = nx.DiGraph()\n",
    "    class_methods = {}\n",
    "    standalone_functions = []\n",
    "\n",
    "    for node in tree.body:\n",
    "        if isinstance(node, ast.ClassDef):\n",
    "            current_class = node.name\n",
    "            class_methods[current_class] = []\n",
    "\n",
    "            for class_node in node.body:\n",
    "                if isinstance(class_node, ast.FunctionDef):\n",
    "                    method_name = f\"{current_class}.{class_node.name}\"\n",
    "                    class_methods[current_class].append(method_name)\n",
    "                    dependencies.add_node(method_name)\n",
    "\n",
    "                    for inner_node in ast.walk(class_node):\n",
    "                        if isinstance(inner_node, ast.Call) and isinstance(inner_node.func, ast.Attribute):\n",
    "                            called_method = f\"{current_class}.{inner_node.func.attr}\"\n",
    "                            if called_method in dependencies:\n",
    "                                dependencies.add_edge(\n",
    "                                    method_name, called_method)\n",
    "\n",
    "        elif isinstance(node, ast.FunctionDef) and is_top_level(node, tree):\n",
    "            function_name = node.name\n",
    "            standalone_functions.append(function_name)\n",
    "            dependencies.add_node(function_name)\n",
    "\n",
    "            for inner_node in ast.walk(node):\n",
    "                if isinstance(inner_node, ast.Call) and isinstance(inner_node.func, ast.Name):\n",
    "                    called_function = inner_node.func.id\n",
    "                    if called_function in standalone_functions:\n",
    "                        dependencies.add_edge(function_name, called_function)\n",
    "\n",
    "    return {\n",
    "        \"dependencies\": dependencies,\n",
    "        \"class_methods\": class_methods,\n",
    "        \"standalone_functions\": standalone_functions\n",
    "    }\n",
    "\n",
    "\n",
    "# Function to generate ASCII graph with commented lines\n",
    "def generate_condensed_ascii_graph(analysis_result):\n",
    "    ascii_output = StringIO()\n",
    "    dependencies = analysis_result[\"dependencies\"]\n",
    "    class_methods = analysis_result[\"class_methods\"]\n",
    "    standalone_functions = analysis_result[\"standalone_functions\"]\n",
    "\n",
    "    for class_name, methods in class_methods.items():\n",
    "        ascii_output.write(f\"\\n# {'='*10} [ Class: {class_name} ] {'='*10}\\n\")\n",
    "\n",
    "        for method in methods:\n",
    "            call_count = dependencies.in_degree(method)\n",
    "            ascii_output.write(f\"# {method} ( <- {call_count} x)\\n\")\n",
    "\n",
    "            for called_method in dependencies.successors(method):\n",
    "                if called_method in methods:\n",
    "                    ascii_output.write(f\"#   -> {called_method}\\n\")\n",
    "\n",
    "    if standalone_functions:\n",
    "        ascii_output.write(f\"\\n# {'='*10} [ Non-Class Functions ] {'='*10}\\n\")\n",
    "\n",
    "        for function in standalone_functions:\n",
    "            call_count = dependencies.in_degree(function)\n",
    "            ascii_output.write(f\"# {function} ( <- {call_count} x)\\n\")\n",
    "\n",
    "            for called_function in dependencies.successors(function):\n",
    "                if called_function in standalone_functions:\n",
    "                    ascii_output.write(f\"#   -> {called_function}\\n\")\n",
    "\n",
    "    ascii_art = ascii_output.getvalue()\n",
    "    ascii_output.close()\n",
    "    return ascii_art\n",
    "\n",
    "\n",
    "# Function to check if the file already contains the graph block\n",
    "def get_existing_graph(filename):\n",
    "    with open(filename, \"r\") as file:\n",
    "        content = file.read()\n",
    "    match = re.search(\n",
    "        re.escape(GRAPH_HEADER) + r\"(.+?)\" + re.escape(GRAPH_FOOTER),\n",
    "        content, re.DOTALL\n",
    "    )\n",
    "    return match.group(0) if match else None\n",
    "\n",
    "\n",
    "# Function to update the Python file with the ASCII graph\n",
    "def update_file_with_graph(filename, ascii_art):\n",
    "    with open(filename, \"r\") as file:\n",
    "        content = file.read()\n",
    "\n",
    "    # Define the fully commented graph section\n",
    "    graph_section = f\"{GRAPH_HEADER}\\n{ascii_art}\\n{GRAPH_FOOTER}\"\n",
    "\n",
    "    # Ensure all lines within the existing graph are commented\n",
    "    existing_graph = get_existing_graph(filename)\n",
    "    if existing_graph:\n",
    "        for line in existing_graph.splitlines():\n",
    "            if line.strip() and not line.strip().startswith(\"#\"):\n",
    "                raise ValueError(\n",
    "                    \"Error: Un-commented lines found within the existing graph section.\")\n",
    "\n",
    "    # Replace existing or add new graph\n",
    "    if existing_graph:\n",
    "        new_content = re.sub(\n",
    "            re.escape(GRAPH_HEADER) + r\"(.+?)\" + re.escape(GRAPH_FOOTER),\n",
    "            graph_section, content, flags=re.DOTALL\n",
    "        )\n",
    "    else:\n",
    "        new_content = f\"{graph_section}\\n\\n{content}\"\n",
    "\n",
    "    # Write the updated content back to the file\n",
    "    with open(filename, \"w\") as file:\n",
    "        file.write(new_content)\n",
    "\n",
    "    print(\"File updated with new dependency graph.\")\n",
    "\n",
    "\n",
    "# Function to check and update the graph in the file if needed\n",
    "def check_and_update_graph(filename):\n",
    "    analysis_result = analyze_structure_and_dependencies(filename)\n",
    "    new_ascii_art = generate_condensed_ascii_graph(analysis_result)\n",
    "\n",
    "    existing_graph = get_existing_graph(filename)\n",
    "    new_graph_section = f\"{GRAPH_HEADER}\\n{new_ascii_art}\\n{GRAPH_FOOTER}\"\n",
    "\n",
    "    if not existing_graph or existing_graph.strip() != new_graph_section.strip():\n",
    "        update_file_with_graph(filename, new_ascii_art)\n",
    "        print(\"File was updated with the new dependency graph.\")\n",
    "    else:\n",
    "        print(\"File is up to date; no changes needed.\")"
   ]
  },
  {
   "cell_type": "markdown",
   "metadata": {},
   "source": [
    "# Display ASCII graph in Jupyter"
   ]
  },
  {
   "cell_type": "code",
   "execution_count": null,
   "metadata": {},
   "outputs": [],
   "source": [
    "filename = \"../hrmlib/hrmtools.py\"\n",
    "display_ascii_graph(filename)"
   ]
  },
  {
   "cell_type": "markdown",
   "metadata": {},
   "source": [
    "# Cell 4: Update the Python file with the new ASCII graph if it has changed"
   ]
  },
  {
   "cell_type": "code",
   "execution_count": 41,
   "metadata": {},
   "outputs": [
    {
     "name": "stdout",
     "output_type": "stream",
     "text": [
      "File is up to date; no changes needed.\n"
     ]
    }
   ],
   "source": [
    "# Set the target filename\n",
    "filename = \"../hrmlib/hrmtools.py\"\n",
    "\n",
    "# Call the function to check and update the ASCII graph in the file\n",
    "check_and_update_graph(filename)"
   ]
  },
  {
   "cell_type": "markdown",
   "metadata": {},
   "source": [
    "# Cell 5: Full check-update function"
   ]
  },
  {
   "cell_type": "code",
   "execution_count": null,
   "metadata": {},
   "outputs": [],
   "source": [
    "\n"
   ]
  }
 ],
 "metadata": {
  "kernelspec": {
   "display_name": ".venv",
   "language": "python",
   "name": "python3"
  },
  "language_info": {
   "codemirror_mode": {
    "name": "ipython",
    "version": 3
   },
   "file_extension": ".py",
   "mimetype": "text/x-python",
   "name": "python",
   "nbconvert_exporter": "python",
   "pygments_lexer": "ipython3",
   "version": "3.11.7"
  }
 },
 "nbformat": 4,
 "nbformat_minor": 2
}
