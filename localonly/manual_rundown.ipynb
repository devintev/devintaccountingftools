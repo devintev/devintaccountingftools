{
 "cells": [
  {
   "cell_type": "code",
   "execution_count": 1,
   "metadata": {},
   "outputs": [],
   "source": [
    "from pprint import pprint\n",
    "import json\n",
    "from icecream import ic\n",
    "import azure.functions as func\n",
    "import logging\n",
    "from json2html import json2html\n",
    "import sys\n",
    "import os\n",
    "from openpyxl import Workbook, styles, load_workbook\n",
    "from io import StringIO, BytesIO\n",
    "import base64\n",
    "from tempfile import NamedTemporaryFile\n",
    "\n",
    "\n",
    "def save_virtual_workbook(workbook):\n",
    "    \"\"\"Save an openpyxl workbook in memory.\"\"\"\n",
    "\n",
    "    try:\n",
    "        # Save workbook to a temporary file and read its content\n",
    "        with NamedTemporaryFile() as f:\n",
    "            workbook.save(f.name)\n",
    "            # self.logger.debug(\"Workbook saved to a temporary file.\")\n",
    "            f.seek(0)\n",
    "            content = f.read()\n",
    "            # self.logger.debug(\"Workbook read into memory.\")\n",
    "        return content\n",
    "\n",
    "    except Exception as e:  # noqa: e is intentionally unused\n",
    "        # self.logger.error(f\"Error in save_virtual_workbook: {e}\")\n",
    "        raise\n",
    "\n",
    "\n",
    "# Add the project root directory to sys.path\n",
    "sys.path.append(os.path.abspath('..'))\n",
    "os.environ['KEY_VAULT_NAME'] = 'devintaccountingftkeys'\n",
    "settings_file = \"../hrmlib/devint_settings.yaml\""
   ]
  },
  {
   "cell_type": "code",
   "execution_count": 2,
   "metadata": {},
   "outputs": [
    {
     "name": "stderr",
     "output_type": "stream",
     "text": [
      "Total instruction files processed: 5\n",
      "All time slots processed successfully.\n",
      "Found 1 'Kontenrahmen' sheets.\n",
      "Completed processing all dataframes for 'kontenrahmen'.\n",
      "Found 'Kostenstellenplan' sheet.\n",
      "Dropped empty rows. Remaining rows: 124\n",
      "Starting to process each row in the dataframe.\n",
      "Completed processing kostenstellenplan.\n",
      "Found 'Reports Overview' sheet.\n",
      "4 report plans were not read because of their deprecated version.\n",
      "Processing reports for budget plans.\n",
      "Found 'Flow Plan' sheet.\n",
      "Completed reading instruction files.\n",
      "Starting to build personnel bookings DataFrame.\n"
     ]
    },
    {
     "name": "stdout",
     "output_type": "stream",
     "text": [
      "headers {'date': {'col_forward': 1, 'col_index': 0}, 'postingtext': {'col_forward': 1, 'col_index': 0}, 'amount': {'col_forward': 1, 'col_index': 0}, 'credit_type': {'col_forward': 1, 'col_index': 0}, 'debit_postingaccount_number': {'col_forward': 1, 'col_index': 0}, 'credit_postingaccount_number': {'col_forward': 1, 'col_index': 0}, 'booking_number': {'col_forward': 1, 'col_index': 0}, 'cost_location': {'col_forward': 1, 'col_index': 0}, 'transaction_purpose': {'col_forward': 1, 'col_index': 0}, 'transaction_id_by_customer': {'col_forward': 1, 'col_index': 0}, 'transactions_purpose': {'col_forward': 1, 'col_index': 0}, 'debit_booking_type_1': {'col_forward': 1, 'col_index': 0}, 'debit_booking_type_2': {'col_forward': 1, 'col_index': 0}, 'debit_booking_categories': {'col_forward': 1, 'col_index': 0}, 'credit_booking_type_1': {'col_forward': 1, 'col_index': 0}, 'credit_booking_type_2': {'col_forward': 1, 'col_index': 0}, 'credit_booking_categories': {'col_forward': 1, 'col_index': 0}, 'realisation': {'col_forward': 1, 'col_index': 0}, 'month': {'col_forward': 1, 'col_index': 0}, '1730': {'col_forward': 2, 'col_index': 0}, '1700': {'col_forward': 2, 'col_index': 0}, '1705': {'col_forward': 1, 'col_index': 0}, '1712': {'col_forward': 1, 'col_index': 0}, '2551': {'col_forward': 2, 'col_index': 0}, '2555': {'col_forward': 1, 'col_index': 0}, '2558': {'col_forward': 1, 'col_index': 0}, '6700': {'col_forward': 2, 'col_index': 0}, '6750': {'col_forward': 1, 'col_index': 0}, '6751': {'col_forward': 1, 'col_index': 0}}\n",
      "7\n"
     ]
    }
   ],
   "source": [
    "from hrmlib.hrmtools import (\n",
    "    SecretsAndSettingsManager, HTMLListHandler,\n",
    "    read_html_page_template,\n",
    "    extract_data_from_received_http_request,\n",
    "    replace_and_format_html_template,\n",
    "    DevIntConnector\n",
    ")\n",
    "\n",
    "logger = logging.getLogger(__name__)\n",
    "logger.setLevel(logging.DEBUG)\n",
    "# Check if the StreamHandler is already added\n",
    "if not any(isinstance(handler, logging.StreamHandler) for handler in logger.handlers):\n",
    "    print_log_handler = logging.StreamHandler()  # StreamHandler prints to console\n",
    "    print_log_handler.setLevel(logging.INFO)\n",
    "    logger.addHandler(print_log_handler)\n",
    "\n",
    "dc = DevIntConnector(parent_logger=logger,\n",
    "                     settings_file=settings_file)\n",
    "config = SecretsAndSettingsManager(parent_logger=logger)\n",
    "dc.setup(config)\n",
    "selectors = []\n",
    "selectors.append({'type': 'request', 'condition': 'devtest'})\n",
    "instructions = dc.read_instruction_files()\n",
    "bookings = dc.get_all_bb_posts()\n",
    "asset_stock_accounts = dc.get_all_bb_accounts()\n",
    "expected_bookings = dc.read_expected_bookings()\n",
    "reports = dc.build_reports(\n",
    "    bookings, expected_bookings, instructions, asset_stock_accounts)"
   ]
  },
  {
   "cell_type": "code",
   "execution_count": 3,
   "metadata": {},
   "outputs": [],
   "source": [
    "wb = load_workbook(BytesIO(reports['allSheetsFile']))\n",
    "attachment_content = base64.b64encode(\n",
    "    save_virtual_workbook(wb)).decode()\n",
    "# save workbook to file for debugging: \"output.xlsx\"\n",
    "with open(\"output.xlsx\", \"wb\") as output:\n",
    "    output.write(base64.b64decode(attachment_content))"
   ]
  },
  {
   "cell_type": "code",
   "execution_count": null,
   "metadata": {},
   "outputs": [],
   "source": [
    "{'date': {'col_forward': 1, 'col_index': 0}, 'postingtext': {'col_forward': 1, 'col_index': 0}, 'amount': {'col_forward': 1, 'col_index': 0}, 'credit_type': {'col_forward': 1, 'col_index': 0}, 'debit_postingaccount_number': {'col_forward': 1, 'col_index': 0}, 'credit_postingaccount_number': {'col_forward': 1, 'col_index': 0}, 'booking_number': {'col_forward': 1, 'col_index': 0}, 'cost_location': {'col_forward': 1, 'col_index': 0}, 'transaction_purpose': {'col_forward': 1, 'col_index': 0}, 'transaction_id_by_customer': {'col_forward': 1, 'col_index': 0}, 'transactions_purpose': {'col_forward': 1, 'col_index': 0}, 'debit_booking_type_1': {'col_forward': 1, 'col_index': 0}, 'debit_booking_type_2': {'col_forward': 1, 'col_index': 0}, 'debit_booking_categories': {\n",
    "    'col_forward': 1, 'col_index': 0}, 'credit_booking_type_1': {'col_forward': 1, 'col_index': 0}, 'credit_booking_type_2': {'col_forward': 1, 'col_index': 0}, 'credit_booking_categories': {'col_forward': 1, 'col_index': 0}, 'realisation': {'col_forward': 1, 'col_index': 0}, 'month': {'col_forward': 1, 'col_index': 0}, '1730': {'col_forward': 2, 'col_index': 0}, '1700': {'col_forward': 2, 'col_index': 0}, '1705': {'col_forward': 1, 'col_index': 0}, '1712': {'col_forward': 1, 'col_index': 0}, '2551': {'col_forward': 2, 'col_index': 0}, '2555': {'col_forward': 1, 'col_index': 0}, '2558': {'col_forward': 1, 'col_index': 0}, '6700': {'col_forward': 2, 'col_index': 0}, '6750': {'col_forward': 1, 'col_index': 0}, '6751': {'col_forward': 1, 'col_index': 0}}"
   ]
  },
  {
   "cell_type": "code",
   "execution_count": null,
   "metadata": {},
   "outputs": [],
   "source": []
  }
 ],
 "metadata": {
  "kernelspec": {
   "display_name": ".venv",
   "language": "python",
   "name": "python3"
  },
  "language_info": {
   "codemirror_mode": {
    "name": "ipython",
    "version": 3
   },
   "file_extension": ".py",
   "mimetype": "text/x-python",
   "name": "python",
   "nbconvert_exporter": "python",
   "pygments_lexer": "ipython3",
   "version": "3.11.7"
  }
 },
 "nbformat": 4,
 "nbformat_minor": 2
}
